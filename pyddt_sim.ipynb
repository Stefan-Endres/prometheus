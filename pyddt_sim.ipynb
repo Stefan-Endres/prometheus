{
 "cells": [
  {
   "cell_type": "markdown",
   "metadata": {},
   "source": [
    "# Degredation-to-deformation simulations"
   ]
  },
  {
   "cell_type": "markdown",
   "metadata": {},
   "source": [
    "## Imports and initialization"
   ]
  },
  {
   "cell_type": "code",
   "execution_count": 6,
   "metadata": {},
   "outputs": [],
   "source": [
    "from ddt import *"
   ]
  },
  {
   "cell_type": "markdown",
   "metadata": {},
   "source": [
    "## Parameters and initial conditions \n",
    "\n",
    "Note: The initial conditions cell needs to be ran whenever parameters are changed to update the simulation conditions.\n",
    "\n",
    "As a lost resort restart everything with the menus above:  `Kernel -->  Restart & Run All`"
   ]
  },
  {
   "cell_type": "markdown",
   "metadata": {},
   "source": [
    "### Parameters"
   ]
  },
  {
   "cell_type": "code",
   "execution_count": 7,
   "metadata": {},
   "outputs": [],
   "source": [
    "\"\"\"Initial conditions and simulation parameters\"\"\"\n",
    "# parameters\n",
    "phi_0 = 0.65\n",
    "phi_0 = 0.75\n",
    "u_0 = 0.0  # Initial velocity in the x-direction  # cm/us???\n",
    "#u_0_1 = 0.00001  # Pellet velocity in the x-direction  # 0.1 cm/us = 1000 m/s\n",
    "u_0_1 = 0.0  # Pellet velocity in the x-direction  # 0.1 cm/us = 1000 m/s\n",
    "p_0 = 1.0e-9  # GPa (equivalent to 1 atmosphere)\n",
    "rho_0 = 1.6  # Initial density\n",
    "v_0 = (rho_0)**(-1)  # Assume experimental condition\n",
    "lambd_0 = 0  # Initial reaction progress\n",
    "             # Ratio of mass products / total mass of a volume element\n",
    "\n",
    "e_0_guess = 7.07  # kJ / cm3 Initial guess for starting internal energy\n",
    "e_0_guess = 3.983295207817231  # kJ / cm3 Initial guess for starting internal energy\n",
    "e_0 = e_0_guess  # NOTE: This value is computed in ddt.py initialization\n",
    "                 #  e(p_0, v_0, lambd_0, phi_0) =  3.983295207817231\n"
   ]
  },
  {
   "cell_type": "markdown",
   "metadata": {},
   "source": [
    "NOTE: For the  (for example Calibrated parameters for the reactant WR-EOS), see the `params.py` file. You will need to reload the first cell (which runs `from ddt import *`) or run `from ddt.params import *` to load any changes."
   ]
  },
  {
   "cell_type": "markdown",
   "metadata": {},
   "source": [
    "### Initial conditions"
   ]
  },
  {
   "cell_type": "code",
   "execution_count": 8,
   "metadata": {},
   "outputs": [
    {
     "name": "stdout",
     "output_type": "stream",
     "text": [
      "e_0 = 4.573901456496666\n",
      "U_0[2] = [7.31824233 7.31824233 7.31824233 7.31824233 7.31824233 7.31824233\n",
      " 7.31824233 7.31824233 7.31824233 7.31824233 7.31824233 7.31824233\n",
      " 7.31824233 7.31824233 7.31824233 7.31824233 7.31824233 7.31824233\n",
      " 7.31824233 7.31824233 7.31824233 7.31824233 7.31824233 7.31824233\n",
      " 7.31824233 7.31824233 7.31824233 7.31824233 7.31824233 7.31824233\n",
      " 7.31824233]\n",
      "------------------------\n",
      "Initial reaction rates:\n",
      "------------------------\n",
      "r_phi_0(1e-09, 0.75) = 0.0\n",
      "r_lambda_0(1e-09, 0) = 0.0\n",
      "------------------------\n"
     ]
    }
   ],
   "source": [
    "# Simulation\n",
    "t0 = 0.0  # us (microseconds) # Simulation start time\n",
    "#tf = 0.025  # us (microseconds) # Simulation finish time\n",
    "tf = 0.0000025  # us (microseconds) # Simulation finish time\n",
    "L = 0.3  # mm # Length of the tube\n",
    "\n",
    "\"\"\"Initiation\"\"\"\n",
    "U_0, x, t, dt = init_cond(printout=True)"
   ]
  },
  {
   "cell_type": "markdown",
   "metadata": {},
   "source": [
    "## Simulation\n",
    "\n",
    "Rerun this cell only if you change the parameters or initial conditions (it can take a long time):"
   ]
  },
  {
   "cell_type": "code",
   "execution_count": 9,
   "metadata": {},
   "outputs": [
    {
     "data": {
      "text/plain": [
       "array([[1.6, 1.6, 1.6, ..., 1.6, 1.6, 1.6],\n",
       "       [1.6, 1.6, 1.6, ..., 1.6, 1.6, 1.6],\n",
       "       [1.6, 1.6, 1.6, ..., 1.6, 1.6, 1.6],\n",
       "       ...,\n",
       "       [1.6, 1.6, 1.6, ..., 1.6, 1.6, 1.6],\n",
       "       [1.6, 1.6, 1.6, ..., 1.6, 1.6, 1.6],\n",
       "       [1.6, 1.6, 1.6, ..., 1.6, 1.6, 1.6]])"
      ]
     },
     "execution_count": 9,
     "metadata": {},
     "output_type": "execute_result"
    }
   ],
   "source": [
    "sol = rk3(U_0, t, dt)\n",
    "U = sol\n",
    "U"
   ]
  },
  {
   "cell_type": "markdown",
   "metadata": {},
   "source": [
    "Wait for the above sell to finish then run the plot: "
   ]
  },
  {
   "cell_type": "code",
   "execution_count": 10,
   "metadata": {},
   "outputs": [
    {
     "data": {
      "image/png": "[encoded data removed]",
      "text/plain": [
       "<Figure size 432x288 with 2 Axes>"
      ]
     },
     "metadata": {
      "needs_background": "light"
     },
     "output_type": "display_data"
    }
   ],
   "source": [
    "plot_u_t(x, t, U)"
   ]
  },
  {
   "cell_type": "code",
   "execution_count": null,
   "metadata": {},
   "outputs": [],
   "source": []
  }
 ],
 "metadata": {
  "kernelspec": {
   "display_name": "Python 3",
   "language": "python",
   "name": "python3"
  },
  "language_info": {
   "codemirror_mode": {
    "name": "ipython",
    "version": 3
   },
   "file_extension": ".py",
   "mimetype": "text/x-python",
   "name": "python",
   "nbconvert_exporter": "python",
   "pygments_lexer": "ipython3",
   "version": "3.8.6"
  }
 },
 "nbformat": 4,
 "nbformat_minor": 2
}
