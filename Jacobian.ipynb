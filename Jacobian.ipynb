{
 "cells": [
  {
   "cell_type": "markdown",
   "metadata": {},
   "source": [
    "Compute the Jacobian of Equations 15 and 16\n",
    "=="
   ]
  },
  {
   "cell_type": "code",
   "execution_count": 1,
   "metadata": {},
   "outputs": [],
   "source": [
    "from __future__ import division"
   ]
  },
  {
   "cell_type": "code",
   "execution_count": 16,
   "metadata": {},
   "outputs": [
    {
     "data": {
      "image/png": "[encoded data removed]",
      "text/latex": [
       "$$\\lambda$$"
      ],
      "text/plain": [
       "λ"
      ]
     },
     "execution_count": 16,
     "metadata": {},
     "output_type": "execute_result"
    }
   ],
   "source": [
    "import sympy\n",
    "sympy.init_printing()\n",
    "v_p, v_ps, v_r, Phi, lambd, v, phi = sympy.symbols('v_p, v_ps, v_r, Phi, lambda, v, phi')\n",
    "lambd"
   ]
  },
  {
   "cell_type": "code",
   "execution_count": 17,
   "metadata": {},
   "outputs": [
    {
     "data": {
      "image/png": "[encoded data removed]",
      "text/latex": [
       "$$- \\frac{v}{\\Phi \\left(- \\lambda + 1\\right) + \\lambda} + v_{p}$$"
      ],
      "text/plain": [
       "        v            \n",
       "- ────────────── + vₚ\n",
       "  Φ⋅(-λ + 1) + λ     "
      ]
     },
     "execution_count": 17,
     "metadata": {},
     "output_type": "execute_result"
    }
   ],
   "source": [
    "f1 = v_p - v/(lambd + (1 - lambd) * Phi)\n",
    "f1"
   ]
  },
  {
   "cell_type": "code",
   "execution_count": 18,
   "metadata": {},
   "outputs": [
    {
     "data": {
      "image/png": "[encoded data removed]",
      "text/latex": [
       "$$- \\frac{\\Phi v}{\\Phi \\left(- \\lambda + 1\\right) + \\lambda} + v_{ps}$$"
      ],
      "text/plain": [
       "       Φ⋅v            \n",
       "- ────────────── + vₚₛ\n",
       "  Φ⋅(-λ + 1) + λ      "
      ]
     },
     "execution_count": 18,
     "metadata": {},
     "output_type": "execute_result"
    }
   ],
   "source": [
    "f2 = v_ps - (Phi * v)/(lambd + (1 - lambd) * Phi)\n",
    "f2"
   ]
  },
  {
   "cell_type": "code",
   "execution_count": 19,
   "metadata": {},
   "outputs": [
    {
     "data": {
      "image/png": "[encoded data removed]",
      "text/latex": [
       "$$- \\frac{\\Phi \\phi v}{\\Phi \\left(- \\lambda + 1\\right) + \\lambda} + v_{r}$$"
      ],
      "text/plain": [
       "      Φ⋅φ⋅v          \n",
       "- ────────────── + vᵣ\n",
       "  Φ⋅(-λ + 1) + λ     "
      ]
     },
     "execution_count": 19,
     "metadata": {},
     "output_type": "execute_result"
    }
   ],
   "source": [
    "f3 = v_r - (phi * Phi * v)/(lambd + (1 - lambd) * Phi)\n",
    "f3"
   ]
  },
  {
   "cell_type": "code",
   "execution_count": 21,
   "metadata": {},
   "outputs": [
    {
     "data": {
      "image/png": "[encoded data removed]",
      "text/latex": [
       "$$\\Phi - \\frac{v_{ps}}{v_{p}}$$"
      ],
      "text/plain": [
       "    vₚₛ\n",
       "Φ - ───\n",
       "     vₚ"
      ]
     },
     "execution_count": 21,
     "metadata": {},
     "output_type": "execute_result"
    }
   ],
   "source": [
    "f4 = Phi - v_ps/v_p\n",
    "f4"
   ]
  },
  {
   "cell_type": "code",
   "execution_count": 31,
   "metadata": {},
   "outputs": [
    {
     "data": {
      "image/png": "[encoded data removed]",
      "text/latex": [
       "$$\\left [ \\right ]$$"
      ],
      "text/plain": [
       "[]"
      ]
     },
     "execution_count": 31,
     "metadata": {},
     "output_type": "execute_result"
    }
   ],
   "source": [
    "sympy.solve([f1, f2, f3, f4], [v_p, v_ps, v_r, Phi])"
   ]
  },
  {
   "cell_type": "code",
   "execution_count": 29,
   "metadata": {},
   "outputs": [
    {
     "data": {
      "image/png": "[encoded data removed]",
      "text/latex": [
       "$$\\left[\\begin{matrix}- \\frac{v}{\\Phi \\left(- \\lambda + 1\\right) + \\lambda} + v_{p}\\\\- \\frac{\\Phi v}{\\Phi \\left(- \\lambda + 1\\right) + \\lambda} + v_{ps}\\\\- \\frac{\\Phi \\phi v}{\\Phi \\left(- \\lambda + 1\\right) + \\lambda} + v_{r}\\\\\\Phi - \\frac{v_{ps}}{v_{p}}\\end{matrix}\\right]$$"
      ],
      "text/plain": [
       "⎡        v             ⎤\n",
       "⎢- ────────────── + vₚ ⎥\n",
       "⎢  Φ⋅(-λ + 1) + λ      ⎥\n",
       "⎢                      ⎥\n",
       "⎢       Φ⋅v            ⎥\n",
       "⎢- ────────────── + vₚₛ⎥\n",
       "⎢  Φ⋅(-λ + 1) + λ      ⎥\n",
       "⎢                      ⎥\n",
       "⎢      Φ⋅φ⋅v           ⎥\n",
       "⎢- ────────────── + vᵣ ⎥\n",
       "⎢  Φ⋅(-λ + 1) + λ      ⎥\n",
       "⎢                      ⎥\n",
       "⎢           vₚₛ        ⎥\n",
       "⎢       Φ - ───        ⎥\n",
       "⎣            vₚ        ⎦"
      ]
     },
     "execution_count": 29,
     "metadata": {},
     "output_type": "execute_result"
    }
   ],
   "source": [
    "F = sympy.Matrix([f1,f2, f3, f4])\n",
    "F"
   ]
  },
  {
   "cell_type": "code",
   "execution_count": 30,
   "metadata": {},
   "outputs": [
    {
     "data": {
      "image/png": "[encoded data removed]",
      "text/latex": [
       "$$\\left[\\begin{matrix}1 & 0 & 0 & - \\frac{v \\left(\\lambda - 1\\right)}{\\left(\\Phi \\left(- \\lambda + 1\\right) + \\lambda\\right)^{2}}\\\\0 & 1 & 0 & - \\frac{\\Phi v \\left(\\lambda - 1\\right)}{\\left(\\Phi \\left(- \\lambda + 1\\right) + \\lambda\\right)^{2}} - \\frac{v}{\\Phi \\left(- \\lambda + 1\\right) + \\lambda}\\\\0 & 0 & 1 & - \\frac{\\Phi \\phi v \\left(\\lambda - 1\\right)}{\\left(\\Phi \\left(- \\lambda + 1\\right) + \\lambda\\right)^{2}} - \\frac{\\phi v}{\\Phi \\left(- \\lambda + 1\\right) + \\lambda}\\\\\\frac{v_{ps}}{v_{p}^{2}} & - \\frac{1}{v_{p}} & 0 & 1\\end{matrix}\\right]$$"
      ],
      "text/plain": [
       "⎡                         -v⋅(λ - 1)              ⎤\n",
       "⎢ 1    0   0           ─────────────────          ⎥\n",
       "⎢                                      2          ⎥\n",
       "⎢                      (Φ⋅(-λ + 1) + λ)           ⎥\n",
       "⎢                                                 ⎥\n",
       "⎢                  Φ⋅v⋅(λ - 1)            v       ⎥\n",
       "⎢ 0    1   0  - ───────────────── - ──────────────⎥\n",
       "⎢                               2   Φ⋅(-λ + 1) + λ⎥\n",
       "⎢               (Φ⋅(-λ + 1) + λ)                  ⎥\n",
       "⎢                                                 ⎥\n",
       "⎢                 Φ⋅φ⋅v⋅(λ - 1)          φ⋅v      ⎥\n",
       "⎢ 0    0   1  - ───────────────── - ──────────────⎥\n",
       "⎢                               2   Φ⋅(-λ + 1) + λ⎥\n",
       "⎢               (Φ⋅(-λ + 1) + λ)                  ⎥\n",
       "⎢                                                 ⎥\n",
       "⎢vₚₛ  -1                                          ⎥\n",
       "⎢───  ───  0                   1                  ⎥\n",
       "⎢  2   vₚ                                         ⎥\n",
       "⎣vₚ                                               ⎦"
      ]
     },
     "execution_count": 30,
     "metadata": {},
     "output_type": "execute_result"
    }
   ],
   "source": [
    "F.jacobian([v_p, v_ps, v_r, Phi])"
   ]
  },
  {
   "cell_type": "code",
   "execution_count": 36,
   "metadata": {},
   "outputs": [
    {
     "data": {
      "image/png": "[encoded data removed]",
      "text/latex": [
       "$$\\left[\\begin{matrix}\\frac{v_{p} \\left(\\Phi \\left(\\lambda - 1\\right) - \\lambda\\right)^{2} \\left(- \\Phi v \\left(\\lambda - 1\\right) - v \\left(- \\Phi \\left(\\lambda - 1\\right) + \\lambda\\right) + v_{p} \\left(- \\Phi \\left(\\lambda - 1\\right) + \\lambda\\right)^{2}\\right)}{- \\lambda v v_{p} \\left(\\Phi \\left(\\lambda - 1\\right) - \\lambda\\right)^{2} + v v_{ps} \\left(\\lambda - 1\\right) \\left(- \\Phi \\left(\\lambda - 1\\right) + \\lambda\\right)^{2} + v_{p}^{2} \\left(\\Phi \\left(\\lambda - 1\\right) - \\lambda\\right)^{4}} & \\frac{v v_{p} \\left(\\lambda - 1\\right) \\left(- \\Phi \\left(\\lambda - 1\\right) + \\lambda\\right)^{2}}{- \\lambda v v_{p} \\left(\\Phi \\left(\\lambda - 1\\right) - \\lambda\\right)^{2} + v v_{ps} \\left(\\lambda - 1\\right) \\left(- \\Phi \\left(\\lambda - 1\\right) + \\lambda\\right)^{2} + v_{p}^{2} \\left(\\Phi \\left(\\lambda - 1\\right) - \\lambda\\right)^{4}} & 0 & \\frac{v v_{p}^{2} \\left(\\lambda - 1\\right) \\left(- \\Phi \\left(\\lambda - 1\\right) + \\lambda\\right)^{2}}{- \\lambda v v_{p} \\left(\\Phi \\left(\\lambda - 1\\right) - \\lambda\\right)^{2} + v v_{ps} \\left(\\lambda - 1\\right) \\left(- \\Phi \\left(\\lambda - 1\\right) + \\lambda\\right)^{2} + v_{p}^{2} \\left(\\Phi \\left(\\lambda - 1\\right) - \\lambda\\right)^{4}}\\\\- \\frac{\\lambda v v_{ps} \\left(\\Phi \\left(\\lambda - 1\\right) - \\lambda\\right)^{2}}{- \\lambda v v_{p} \\left(\\Phi \\left(\\lambda - 1\\right) - \\lambda\\right)^{2} + v v_{ps} \\left(\\lambda - 1\\right) \\left(\\Phi \\left(\\lambda - 1\\right) - \\lambda\\right)^{2} + v_{p}^{2} \\left(\\Phi \\left(\\lambda - 1\\right) - \\lambda\\right)^{4}} & \\frac{\\left(- \\Phi \\left(\\lambda - 1\\right) + \\lambda\\right)^{2} \\left(v v_{ps} \\left(\\lambda - 1\\right) + v_{p}^{2} \\left(\\Phi \\left(\\lambda - 1\\right) - \\lambda\\right)^{2}\\right)}{- \\lambda v v_{p} \\left(\\Phi \\left(\\lambda - 1\\right) - \\lambda\\right)^{2} + v v_{ps} \\left(\\lambda - 1\\right) \\left(- \\Phi \\left(\\lambda - 1\\right) + \\lambda\\right)^{2} + v_{p}^{2} \\left(\\Phi \\left(\\lambda - 1\\right) - \\lambda\\right)^{4}} & 0 & \\frac{\\lambda v v_{p}^{2} \\left(\\Phi \\left(\\lambda - 1\\right) - \\lambda\\right)^{2}}{- \\lambda v v_{p} \\left(\\Phi \\left(\\lambda - 1\\right) - \\lambda\\right)^{2} + v v_{ps} \\left(\\lambda - 1\\right) \\left(- \\Phi \\left(\\lambda - 1\\right) + \\lambda\\right)^{2} + v_{p}^{2} \\left(\\Phi \\left(\\lambda - 1\\right) - \\lambda\\right)^{4}}\\\\- \\frac{\\lambda \\phi v v_{ps} \\left(\\Phi \\left(\\lambda - 1\\right) - \\lambda\\right)^{2}}{- \\lambda v v_{p} \\left(\\Phi \\left(\\lambda - 1\\right) - \\lambda\\right)^{2} + v v_{ps} \\left(\\lambda - 1\\right) \\left(\\Phi \\left(\\lambda - 1\\right) - \\lambda\\right)^{2} + v_{p}^{2} \\left(\\Phi \\left(\\lambda - 1\\right) - \\lambda\\right)^{4}} & \\frac{\\lambda \\phi v v_{p} \\left(\\Phi \\left(\\lambda - 1\\right) - \\lambda\\right)^{2}}{- \\lambda v v_{p} \\left(\\Phi \\left(\\lambda - 1\\right) - \\lambda\\right)^{2} + v v_{ps} \\left(\\lambda - 1\\right) \\left(- \\Phi \\left(\\lambda - 1\\right) + \\lambda\\right)^{2} + v_{p}^{2} \\left(\\Phi \\left(\\lambda - 1\\right) - \\lambda\\right)^{4}} & 1 & \\frac{\\lambda \\phi v v_{p}^{2} \\left(\\Phi \\left(\\lambda - 1\\right) - \\lambda\\right)^{2}}{- \\lambda v v_{p} \\left(\\Phi \\left(\\lambda - 1\\right) - \\lambda\\right)^{2} + v v_{ps} \\left(\\lambda - 1\\right) \\left(- \\Phi \\left(\\lambda - 1\\right) + \\lambda\\right)^{2} + v_{p}^{2} \\left(\\Phi \\left(\\lambda - 1\\right) - \\lambda\\right)^{4}}\\\\- \\frac{v_{ps} \\left(\\Phi \\left(\\lambda - 1\\right) - \\lambda\\right)^{4}}{- \\lambda v v_{p} \\left(\\Phi \\left(\\lambda - 1\\right) - \\lambda\\right)^{2} + v v_{ps} \\left(\\lambda - 1\\right) \\left(\\Phi \\left(\\lambda - 1\\right) - \\lambda\\right)^{2} + v_{p}^{2} \\left(\\Phi \\left(\\lambda - 1\\right) - \\lambda\\right)^{4}} & \\frac{v_{p} \\left(\\Phi \\left(\\lambda - 1\\right) - \\lambda\\right)^{4}}{- \\lambda v v_{p} \\left(\\Phi \\left(\\lambda - 1\\right) - \\lambda\\right)^{2} + v v_{ps} \\left(\\lambda - 1\\right) \\left(- \\Phi \\left(\\lambda - 1\\right) + \\lambda\\right)^{2} + v_{p}^{2} \\left(\\Phi \\left(\\lambda - 1\\right) - \\lambda\\right)^{4}} & 0 & \\frac{v_{p}^{2} \\left(\\Phi \\left(\\lambda - 1\\right) - \\lambda\\right)^{4}}{- \\lambda v v_{p} \\left(\\Phi \\left(\\lambda - 1\\right) - \\lambda\\right)^{2} + v v_{ps} \\left(\\lambda - 1\\right) \\left(- \\Phi \\left(\\lambda - 1\\right) + \\lambda\\right)^{2} + v_{p}^{2} \\left(\\Phi \\left(\\lambda - 1\\right) - \\lambda\\right)^{4}}\\end{matrix}\\right]$$"
      ],
      "text/plain": [
       "⎡                    2 ⎛                                                      \n",
       "⎢  vₚ⋅(Φ⋅(λ - 1) - λ) ⋅⎝-Φ⋅v⋅(λ - 1) - v⋅(-Φ⋅(λ - 1) + λ) + vₚ⋅(-Φ⋅(λ - 1) + λ\n",
       "⎢─────────────────────────────────────────────────────────────────────────────\n",
       "⎢                        2                                 2     2            \n",
       "⎢- λ⋅v⋅vₚ⋅(Φ⋅(λ - 1) - λ)  + v⋅vₚₛ⋅(λ - 1)⋅(-Φ⋅(λ - 1) + λ)  + vₚ ⋅(Φ⋅(λ - 1) \n",
       "⎢                                                                             \n",
       "⎢                                                    2                        \n",
       "⎢                            -λ⋅v⋅vₚₛ⋅(Φ⋅(λ - 1) - λ)                         \n",
       "⎢─────────────────────────────────────────────────────────────────────────────\n",
       "⎢                        2                                2     2             \n",
       "⎢- λ⋅v⋅vₚ⋅(Φ⋅(λ - 1) - λ)  + v⋅vₚₛ⋅(λ - 1)⋅(Φ⋅(λ - 1) - λ)  + vₚ ⋅(Φ⋅(λ - 1) -\n",
       "⎢                                                                             \n",
       "⎢                                                     2                       \n",
       "⎢                           -λ⋅φ⋅v⋅vₚₛ⋅(Φ⋅(λ - 1) - λ)                        \n",
       "⎢─────────────────────────────────────────────────────────────────────────────\n",
       "⎢                        2                                2     2             \n",
       "⎢- λ⋅v⋅vₚ⋅(Φ⋅(λ - 1) - λ)  + v⋅vₚₛ⋅(λ - 1)⋅(Φ⋅(λ - 1) - λ)  + vₚ ⋅(Φ⋅(λ - 1) -\n",
       "⎢                                                                             \n",
       "⎢                                                  4                          \n",
       "⎢                              -vₚₛ⋅(Φ⋅(λ - 1) - λ)                           \n",
       "⎢─────────────────────────────────────────────────────────────────────────────\n",
       "⎢                        2                                2     2             \n",
       "⎣- λ⋅v⋅vₚ⋅(Φ⋅(λ - 1) - λ)  + v⋅vₚₛ⋅(λ - 1)⋅(Φ⋅(λ - 1) - λ)  + vₚ ⋅(Φ⋅(λ - 1) -\n",
       "\n",
       " 2⎞                                                           2               \n",
       ") ⎠                              v⋅vₚ⋅(λ - 1)⋅(-Φ⋅(λ - 1) + λ)                \n",
       "─────  ───────────────────────────────────────────────────────────────────────\n",
       "    4                          2                                 2     2      \n",
       "- λ)   - λ⋅v⋅vₚ⋅(Φ⋅(λ - 1) - λ)  + v⋅vₚₛ⋅(λ - 1)⋅(-Φ⋅(λ - 1) + λ)  + vₚ ⋅(Φ⋅(λ\n",
       "                                                                              \n",
       "                                    2 ⎛                  2                2⎞  \n",
       "                    (-Φ⋅(λ - 1) + λ) ⋅⎝v⋅vₚₛ⋅(λ - 1) + vₚ ⋅(Φ⋅(λ - 1) - λ) ⎠  \n",
       "────   ───────────────────────────────────────────────────────────────────────\n",
       "   4                           2                                 2     2      \n",
       " λ)    - λ⋅v⋅vₚ⋅(Φ⋅(λ - 1) - λ)  + v⋅vₚₛ⋅(λ - 1)⋅(-Φ⋅(λ - 1) + λ)  + vₚ ⋅(Φ⋅(λ\n",
       "                                                                              \n",
       "                                                           2                  \n",
       "                                   λ⋅φ⋅v⋅vₚ⋅(Φ⋅(λ - 1) - λ)                   \n",
       "────   ───────────────────────────────────────────────────────────────────────\n",
       "   4                           2                                 2     2      \n",
       " λ)    - λ⋅v⋅vₚ⋅(Φ⋅(λ - 1) - λ)  + v⋅vₚₛ⋅(λ - 1)⋅(-Φ⋅(λ - 1) + λ)  + vₚ ⋅(Φ⋅(λ\n",
       "                                                                              \n",
       "                                                        4                     \n",
       "                                      vₚ⋅(Φ⋅(λ - 1) - λ)                      \n",
       "────   ───────────────────────────────────────────────────────────────────────\n",
       "   4                           2                                 2     2      \n",
       " λ)    - λ⋅v⋅vₚ⋅(Φ⋅(λ - 1) - λ)  + v⋅vₚₛ⋅(λ - 1)⋅(-Φ⋅(λ - 1) + λ)  + vₚ ⋅(Φ⋅(λ\n",
       "\n",
       "                                             2                         2      \n",
       "                                         v⋅vₚ ⋅(λ - 1)⋅(-Φ⋅(λ - 1) + λ)       \n",
       "───────────  0  ──────────────────────────────────────────────────────────────\n",
       "          4                             2                                 2   \n",
       " - 1) - λ)      - λ⋅v⋅vₚ⋅(Φ⋅(λ - 1) - λ)  + v⋅vₚₛ⋅(λ - 1)⋅(-Φ⋅(λ - 1) + λ)  + \n",
       "                                                                              \n",
       "                                                   2                2         \n",
       "                                             λ⋅v⋅vₚ ⋅(Φ⋅(λ - 1) - λ)          \n",
       "───────────  0  ──────────────────────────────────────────────────────────────\n",
       "          4                             2                                 2   \n",
       " - 1) - λ)      - λ⋅v⋅vₚ⋅(Φ⋅(λ - 1) - λ)  + v⋅vₚₛ⋅(λ - 1)⋅(-Φ⋅(λ - 1) + λ)  + \n",
       "                                                                              \n",
       "                                                    2                2        \n",
       "                                            λ⋅φ⋅v⋅vₚ ⋅(Φ⋅(λ - 1) - λ)         \n",
       "───────────  1  ──────────────────────────────────────────────────────────────\n",
       "          4                             2                                 2   \n",
       " - 1) - λ)      - λ⋅v⋅vₚ⋅(Φ⋅(λ - 1) - λ)  + v⋅vₚₛ⋅(λ - 1)⋅(-Φ⋅(λ - 1) + λ)  + \n",
       "                                                                              \n",
       "                                                 2                4           \n",
       "                                               vₚ ⋅(Φ⋅(λ - 1) - λ)            \n",
       "───────────  0  ──────────────────────────────────────────────────────────────\n",
       "          4                             2                                 2   \n",
       " - 1) - λ)      - λ⋅v⋅vₚ⋅(Φ⋅(λ - 1) - λ)  + v⋅vₚₛ⋅(λ - 1)⋅(-Φ⋅(λ - 1) + λ)  + \n",
       "\n",
       "                    ⎤\n",
       "                    ⎥\n",
       "────────────────────⎥\n",
       "  2                4⎥\n",
       "vₚ ⋅(Φ⋅(λ - 1) - λ) ⎥\n",
       "                    ⎥\n",
       "                    ⎥\n",
       "                    ⎥\n",
       "────────────────────⎥\n",
       "  2                4⎥\n",
       "vₚ ⋅(Φ⋅(λ - 1) - λ) ⎥\n",
       "                    ⎥\n",
       "                    ⎥\n",
       "                    ⎥\n",
       "────────────────────⎥\n",
       "  2                4⎥\n",
       "vₚ ⋅(Φ⋅(λ - 1) - λ) ⎥\n",
       "                    ⎥\n",
       "                    ⎥\n",
       "                    ⎥\n",
       "────────────────────⎥\n",
       "  2                4⎥\n",
       "vₚ ⋅(Φ⋅(λ - 1) - λ) ⎦"
      ]
     },
     "execution_count": 36,
     "metadata": {},
     "output_type": "execute_result"
    }
   ],
   "source": [
    "sympy.simplify(F.jacobian([v_p, v_ps, v_r, Phi]).inv())"
   ]
  },
  {
   "cell_type": "code",
   "execution_count": 37,
   "metadata": {},
   "outputs": [
    {
     "data": {
      "text/plain": [
       "Matrix([\n",
       "[          1,      0, 0,                                              -v*(lambda - 1)/(Phi*(-lambda + 1) + lambda)**2],\n",
       "[          0,      1, 0,         -Phi*v*(lambda - 1)/(Phi*(-lambda + 1) + lambda)**2 - v/(Phi*(-lambda + 1) + lambda)],\n",
       "[          0,      0, 1, -Phi*phi*v*(lambda - 1)/(Phi*(-lambda + 1) + lambda)**2 - phi*v/(Phi*(-lambda + 1) + lambda)],\n",
       "[v_ps/v_p**2, -1/v_p, 0,                                                                                            1]])"
      ]
     },
     "execution_count": 37,
     "metadata": {},
     "output_type": "execute_result"
    }
   ],
   "source": [
    "sympy.init_printing(False)\n",
    "F.jacobian([v_p, v_ps, v_r, Phi])"
   ]
  },
  {
   "cell_type": "code",
   "execution_count": null,
   "metadata": {},
   "outputs": [],
   "source": []
  }
 ],
 "metadata": {
  "kernelspec": {
   "display_name": "Python 3",
   "language": "python",
   "name": "python3"
  },
  "language_info": {
   "codemirror_mode": {
    "name": "ipython",
    "version": 3
   },
   "file_extension": ".py",
   "mimetype": "text/x-python",
   "name": "python",
   "nbconvert_exporter": "python",
   "pygments_lexer": "ipython3",
   "version": "3.6.5"
  }
 },
 "nbformat": 4,
 "nbformat_minor": 2
}
