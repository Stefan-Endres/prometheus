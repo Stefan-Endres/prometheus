{
 "cells": [
  {
   "cell_type": "markdown",
   "metadata": {},
   "source": [
    "Compute the Jacobian of Equations 15 and 16\n",
    "=="
   ]
  },
  {
   "cell_type": "code",
   "execution_count": 1,
   "metadata": {},
   "outputs": [],
   "source": [
    "from __future__ import division"
   ]
  },
  {
   "cell_type": "code",
   "execution_count": 3,
   "metadata": {},
   "outputs": [
    {
     "data": {
      "image/png": "[encoded data removed]",
      "text/latex": [
       "$$x_{1}$$"
      ],
      "text/plain": [
       "x₁"
      ]
     },
     "execution_count": 3,
     "metadata": {},
     "output_type": "execute_result"
    }
   ],
   "source": [
    "import sympy\n",
    "sympy.init_printing()\n",
    "x_1, x_2 = sympy.symbols('x_1, x_2')\n",
    "x_1"
   ]
  },
  {
   "cell_type": "code",
   "execution_count": 1,
   "metadata": {},
   "outputs": [
    {
     "ename": "NameError",
     "evalue": "name 'X' is not defined",
     "output_type": "error",
     "traceback": [
      "\u001b[0;31m---------------------------------------------------------------------------\u001b[0m",
      "\u001b[0;31mNameError\u001b[0m                                 Traceback (most recent call last)",
      "\u001b[0;32m<ipython-input-1-a966f4f52177>\u001b[0m in \u001b[0;36m<module>\u001b[0;34m\u001b[0m\n\u001b[0;32m----> 1\u001b[0;31m \u001b[0mf1\u001b[0m \u001b[0;34m=\u001b[0m \u001b[0;36m20.\u001b[0m \u001b[0;34m+\u001b[0m \u001b[0msum\u001b[0m\u001b[0;34m(\u001b[0m\u001b[0;34m[\u001b[0m\u001b[0;34m(\u001b[0m\u001b[0mx\u001b[0m\u001b[0;34m**\u001b[0m\u001b[0;36m2\u001b[0m \u001b[0;34m-\u001b[0m \u001b[0;36m10.\u001b[0m \u001b[0;34m*\u001b[0m \u001b[0mnp\u001b[0m\u001b[0;34m.\u001b[0m\u001b[0mcos\u001b[0m\u001b[0;34m(\u001b[0m\u001b[0;36m2.\u001b[0m \u001b[0;34m*\u001b[0m \u001b[0mnp\u001b[0m\u001b[0;34m.\u001b[0m\u001b[0mpi\u001b[0m \u001b[0;34m*\u001b[0m \u001b[0mx\u001b[0m\u001b[0;34m)\u001b[0m\u001b[0;34m)\u001b[0m \u001b[0;32mfor\u001b[0m \u001b[0mx\u001b[0m \u001b[0;32min\u001b[0m \u001b[0mX\u001b[0m\u001b[0;34m]\u001b[0m\u001b[0;34m)\u001b[0m\u001b[0;34m\u001b[0m\u001b[0;34m\u001b[0m\u001b[0m\n\u001b[0m\u001b[1;32m      2\u001b[0m \u001b[0mf1\u001b[0m\u001b[0;34m\u001b[0m\u001b[0;34m\u001b[0m\u001b[0m\n",
      "\u001b[0;31mNameError\u001b[0m: name 'X' is not defined"
     ]
    }
   ],
   "source": [
    "f1 = 20. + ([(x**2 - 10. * np.cos(2. * np.pi * x)) for x in X\n",
    "f1"
   ]
  },
  {
   "cell_type": "code",
   "execution_count": 18,
   "metadata": {},
   "outputs": [
    {
     "data": {
      "image/png": "[encoded data removed]",
      "text/plain": [
       "       Φ⋅v            \n",
       "- ────────────── + vₚₛ\n",
       "  Φ⋅(-λ + 1) + λ      "
      ]
     },
     "execution_count": 18,
     "metadata": {},
     "output_type": "execute_result"
    }
   ],
   "source": [
    "f2 = v_ps - (Phi * v)/(lambd + (1 - lambd) * Phi)\n",
    "f2"
   ]
  },
  {
   "cell_type": "code",
   "execution_count": 19,
   "metadata": {},
   "outputs": [
    {
     "data": {
      "image/png": "[encoded data removed]",
      "text/plain": [
       "      Φ⋅φ⋅v          \n",
       "- ────────────── + vᵣ\n",
       "  Φ⋅(-λ + 1) + λ     "
      ]
     },
     "execution_count": 19,
     "metadata": {},
     "output_type": "execute_result"
    }
   ],
   "source": [
    "f3 = v_r - (phi * Phi * v)/(lambd + (1 - lambd) * Phi)\n",
    "f3"
   ]
  },
  {
   "cell_type": "code",
   "execution_count": 21,
   "metadata": {},
   "outputs": [
    {
     "data": {
      "image/png": "[encoded data removed]",
      "text/plain": [
       "    vₚₛ\n",
       "Φ - ───\n",
       "     vₚ"
      ]
     },
     "execution_count": 21,
     "metadata": {},
     "output_type": "execute_result"
    }
   ],
   "source": [
    "f4 = Phi - v_ps/v_p\n",
    "f4"
   ]
  },
  {
   "cell_type": "code",
   "execution_count": 31,
   "metadata": {},
   "outputs": [
    {
     "data": {
      "image/png": "[encoded data removed]",
      "text/plain": [
       "[]"
      ]
     },
     "execution_count": 31,
     "metadata": {},
     "output_type": "execute_result"
    }
   ],
   "source": [
    "sympy.solve([f1, f2, f3, f4], [v_p, v_ps, v_r, Phi])"
   ]
  },
  {
   "cell_type": "code",
   "execution_count": 29,
   "metadata": {},
   "outputs": [
    {
     "data": {
      "image/png": "[encoded data removed]",
      "text/plain": [
       "⎡        v             ⎤\n",
       "⎢- ────────────── + vₚ ⎥\n",
       "⎢  Φ⋅(-λ + 1) + λ      ⎥\n",
       "⎢                      ⎥\n",
       "⎢       Φ⋅v            ⎥\n",
       "⎢- ────────────── + vₚₛ⎥\n",
       "⎢  Φ⋅(-λ + 1) + λ      ⎥\n",
       "⎢                      ⎥\n",
       "⎢      Φ⋅φ⋅v           ⎥\n",
       "⎢- ────────────── + vᵣ ⎥\n",
       "⎢  Φ⋅(-λ + 1) + λ      ⎥\n",
       "⎢                      ⎥\n",
       "⎢           vₚₛ        ⎥\n",
       "⎢       Φ - ───        ⎥\n",
       "⎣            vₚ        ⎦"
      ]
     },
     "execution_count": 29,
     "metadata": {},
     "output_type": "execute_result"
    }
   ],
   "source": [
    "F = sympy.Matrix([f1,f2, f3, f4])\n",
    "F"
   ]
  },
  {
   "cell_type": "code",
   "execution_count": 30,
   "metadata": {},
   "outputs": [
    {
     "data": {
      "image/png": "[encoded data removed]",
      "text/plain": [
       "⎡                         -v⋅(λ - 1)              ⎤\n",
       "⎢ 1    0   0           ─────────────────          ⎥\n",
       "⎢                                      2          ⎥\n",
       "⎢                      (Φ⋅(-λ + 1) + λ)           ⎥\n",
       "⎢                                                 ⎥\n",
       "⎢                  Φ⋅v⋅(λ - 1)            v       ⎥\n",
       "⎢ 0    1   0  - ───────────────── - ──────────────⎥\n",
       "⎢                               2   Φ⋅(-λ + 1) + λ⎥\n",
       "⎢               (Φ⋅(-λ + 1) + λ)                  ⎥\n",
       "⎢                                                 ⎥\n",
       "⎢                 Φ⋅φ⋅v⋅(λ - 1)          φ⋅v      ⎥\n",
       "⎢ 0    0   1  - ───────────────── - ──────────────⎥\n",
       "⎢                               2   Φ⋅(-λ + 1) + λ⎥\n",
       "⎢               (Φ⋅(-λ + 1) + λ)                  ⎥\n",
       "⎢                                                 ⎥\n",
       "⎢vₚₛ  -1                                          ⎥\n",
       "⎢───  ───  0                   1                  ⎥\n",
       "⎢  2   vₚ                                         ⎥\n",
       "⎣vₚ                                               ⎦"
      ]
     },
     "execution_count": 30,
     "metadata": {},
     "output_type": "execute_result"
    }
   ],
   "source": [
    "F.jacobian([v_p, v_ps, v_r, Phi])"
   ]
  },
  {
   "cell_type": "code",
   "execution_count": 36,
   "metadata": {},
   "outputs": [
    {
     "data": {
      "image/png": "[encoded data removed]",
      "text/plain": [
       "⎡                    2 ⎛                                                      \n",
       "⎢  vₚ⋅(Φ⋅(λ - 1) - λ) ⋅⎝-Φ⋅v⋅(λ - 1) - v⋅(-Φ⋅(λ - 1) + λ) + vₚ⋅(-Φ⋅(λ - 1) + λ\n",
       "⎢─────────────────────────────────────────────────────────────────────────────\n",
       "⎢                        2                                 2     2            \n",
       "⎢- λ⋅v⋅vₚ⋅(Φ⋅(λ - 1) - λ)  + v⋅vₚₛ⋅(λ - 1)⋅(-Φ⋅(λ - 1) + λ)  + vₚ ⋅(Φ⋅(λ - 1) \n",
       "⎢                                                                             \n",
       "⎢                                                    2                        \n",
       "⎢                            -λ⋅v⋅vₚₛ⋅(Φ⋅(λ - 1) - λ)                         \n",
       "⎢─────────────────────────────────────────────────────────────────────────────\n",
       "⎢                        2                                2     2             \n",
       "⎢- λ⋅v⋅vₚ⋅(Φ⋅(λ - 1) - λ)  + v⋅vₚₛ⋅(λ - 1)⋅(Φ⋅(λ - 1) - λ)  + vₚ ⋅(Φ⋅(λ - 1) -\n",
       "⎢                                                                             \n",
       "⎢                                                     2                       \n",
       "⎢                           -λ⋅φ⋅v⋅vₚₛ⋅(Φ⋅(λ - 1) - λ)                        \n",
       "⎢─────────────────────────────────────────────────────────────────────────────\n",
       "⎢                        2                                2     2             \n",
       "⎢- λ⋅v⋅vₚ⋅(Φ⋅(λ - 1) - λ)  + v⋅vₚₛ⋅(λ - 1)⋅(Φ⋅(λ - 1) - λ)  + vₚ ⋅(Φ⋅(λ - 1) -\n",
       "⎢                                                                             \n",
       "⎢                                                  4                          \n",
       "⎢                              -vₚₛ⋅(Φ⋅(λ - 1) - λ)                           \n",
       "⎢─────────────────────────────────────────────────────────────────────────────\n",
       "⎢                        2                                2     2             \n",
       "⎣- λ⋅v⋅vₚ⋅(Φ⋅(λ - 1) - λ)  + v⋅vₚₛ⋅(λ - 1)⋅(Φ⋅(λ - 1) - λ)  + vₚ ⋅(Φ⋅(λ - 1) -\n",
       "\n",
       " 2⎞                                                           2               \n",
       ") ⎠                              v⋅vₚ⋅(λ - 1)⋅(-Φ⋅(λ - 1) + λ)                \n",
       "─────  ───────────────────────────────────────────────────────────────────────\n",
       "    4                          2                                 2     2      \n",
       "- λ)   - λ⋅v⋅vₚ⋅(Φ⋅(λ - 1) - λ)  + v⋅vₚₛ⋅(λ - 1)⋅(-Φ⋅(λ - 1) + λ)  + vₚ ⋅(Φ⋅(λ\n",
       "                                                                              \n",
       "                                    2 ⎛                  2                2⎞  \n",
       "                    (-Φ⋅(λ - 1) + λ) ⋅⎝v⋅vₚₛ⋅(λ - 1) + vₚ ⋅(Φ⋅(λ - 1) - λ) ⎠  \n",
       "────   ───────────────────────────────────────────────────────────────────────\n",
       "   4                           2                                 2     2      \n",
       " λ)    - λ⋅v⋅vₚ⋅(Φ⋅(λ - 1) - λ)  + v⋅vₚₛ⋅(λ - 1)⋅(-Φ⋅(λ - 1) + λ)  + vₚ ⋅(Φ⋅(λ\n",
       "                                                                              \n",
       "                                                           2                  \n",
       "                                   λ⋅φ⋅v⋅vₚ⋅(Φ⋅(λ - 1) - λ)                   \n",
       "────   ───────────────────────────────────────────────────────────────────────\n",
       "   4                           2                                 2     2      \n",
       " λ)    - λ⋅v⋅vₚ⋅(Φ⋅(λ - 1) - λ)  + v⋅vₚₛ⋅(λ - 1)⋅(-Φ⋅(λ - 1) + λ)  + vₚ ⋅(Φ⋅(λ\n",
       "                                                                              \n",
       "                                                        4                     \n",
       "                                      vₚ⋅(Φ⋅(λ - 1) - λ)                      \n",
       "────   ───────────────────────────────────────────────────────────────────────\n",
       "   4                           2                                 2     2      \n",
       " λ)    - λ⋅v⋅vₚ⋅(Φ⋅(λ - 1) - λ)  + v⋅vₚₛ⋅(λ - 1)⋅(-Φ⋅(λ - 1) + λ)  + vₚ ⋅(Φ⋅(λ\n",
       "\n",
       "                                             2                         2      \n",
       "                                         v⋅vₚ ⋅(λ - 1)⋅(-Φ⋅(λ - 1) + λ)       \n",
       "───────────  0  ──────────────────────────────────────────────────────────────\n",
       "          4                             2                                 2   \n",
       " - 1) - λ)      - λ⋅v⋅vₚ⋅(Φ⋅(λ - 1) - λ)  + v⋅vₚₛ⋅(λ - 1)⋅(-Φ⋅(λ - 1) + λ)  + \n",
       "                                                                              \n",
       "                                                   2                2         \n",
       "                                             λ⋅v⋅vₚ ⋅(Φ⋅(λ - 1) - λ)          \n",
       "───────────  0  ──────────────────────────────────────────────────────────────\n",
       "          4                             2                                 2   \n",
       " - 1) - λ)      - λ⋅v⋅vₚ⋅(Φ⋅(λ - 1) - λ)  + v⋅vₚₛ⋅(λ - 1)⋅(-Φ⋅(λ - 1) + λ)  + \n",
       "                                                                              \n",
       "                                                    2                2        \n",
       "                                            λ⋅φ⋅v⋅vₚ ⋅(Φ⋅(λ - 1) - λ)         \n",
       "───────────  1  ──────────────────────────────────────────────────────────────\n",
       "          4                             2                                 2   \n",
       " - 1) - λ)      - λ⋅v⋅vₚ⋅(Φ⋅(λ - 1) - λ)  + v⋅vₚₛ⋅(λ - 1)⋅(-Φ⋅(λ - 1) + λ)  + \n",
       "                                                                              \n",
       "                                                 2                4           \n",
       "                                               vₚ ⋅(Φ⋅(λ - 1) - λ)            \n",
       "───────────  0  ──────────────────────────────────────────────────────────────\n",
       "          4                             2                                 2   \n",
       " - 1) - λ)      - λ⋅v⋅vₚ⋅(Φ⋅(λ - 1) - λ)  + v⋅vₚₛ⋅(λ - 1)⋅(-Φ⋅(λ - 1) + λ)  + \n",
       "\n",
       "                    ⎤\n",
       "                    ⎥\n",
       "────────────────────⎥\n",
       "  2                4⎥\n",
       "vₚ ⋅(Φ⋅(λ - 1) - λ) ⎥\n",
       "                    ⎥\n",
       "                    ⎥\n",
       "                    ⎥\n",
       "────────────────────⎥\n",
       "  2                4⎥\n",
       "vₚ ⋅(Φ⋅(λ - 1) - λ) ⎥\n",
       "                    ⎥\n",
       "                    ⎥\n",
       "                    ⎥\n",
       "────────────────────⎥\n",
       "  2                4⎥\n",
       "vₚ ⋅(Φ⋅(λ - 1) - λ) ⎥\n",
       "                    ⎥\n",
       "                    ⎥\n",
       "                    ⎥\n",
       "────────────────────⎥\n",
       "  2                4⎥\n",
       "vₚ ⋅(Φ⋅(λ - 1) - λ) ⎦"
      ]
     },
     "execution_count": 36,
     "metadata": {},
     "output_type": "execute_result"
    }
   ],
   "source": [
    "sympy.simplify(F.jacobian([v_p, v_ps, v_r, Phi]).inv())"
   ]
  },
  {
   "cell_type": "code",
   "execution_count": 37,
   "metadata": {},
   "outputs": [
    {
     "data": {
      "text/plain": [
       "Matrix([\n",
       "[          1,      0, 0,                                              -v*(lambda - 1)/(Phi*(-lambda + 1) + lambda)**2],\n",
       "[          0,      1, 0,         -Phi*v*(lambda - 1)/(Phi*(-lambda + 1) + lambda)**2 - v/(Phi*(-lambda + 1) + lambda)],\n",
       "[          0,      0, 1, -Phi*phi*v*(lambda - 1)/(Phi*(-lambda + 1) + lambda)**2 - phi*v/(Phi*(-lambda + 1) + lambda)],\n",
       "[v_ps/v_p**2, -1/v_p, 0,                                                                                            1]])"
      ]
     },
     "execution_count": 37,
     "metadata": {},
     "output_type": "execute_result"
    }
   ],
   "source": [
    "sympy.init_printing(False)\n",
    "F.jacobian([v_p, v_ps, v_r, Phi])"
   ]
  },
  {
   "cell_type": "markdown",
   "metadata": {},
   "source": [
    "Attempt to find an explicit expression for pressure, given the internal energy\n",
    "==="
   ]
  },
  {
   "cell_type": "code",
   "execution_count": 71,
   "metadata": {},
   "outputs": [
    {
     "data": {
      "image/png": "[encoded data removed]",
      "text/latex": [
       "$$\\left ( e, \\quad e^{s}_{p}, \\quad e^{s}_{r}, \\quad v_{p}, \\quad v_{ps}, \\quad v_{r}, \\quad \\Phi, \\quad \\phi, \\quad \\lambda, \\quad v, \\quad \\phi, \\quad \\Gamma_{p}, \\quad \\Gamma_{r}, \\quad p, \\quad p^{s}_{p}, \\quad p^{s}_{r}\\right )$$"
      ],
      "text/plain": [
       "(e, e_p__s, e_r__s, vₚ, vₚₛ, vᵣ, Φ, φ, λ, v, φ, Γₚ, Γᵣ, p, p_p__s, p_r__s)"
      ]
     },
     "execution_count": 71,
     "metadata": {},
     "output_type": "execute_result"
    }
   ],
   "source": [
    "import sympy\n",
    "sympy.init_printing()\n",
    "e, e_p_s, e_r_s, v_p, v_ps, v_r, Phi, phi, lambd, v, phi, gam_p, gam_r, p, p_p_s, p_r_s = sympy.symbols('e, e_p^s, e_r^s, v_p, v_ps, v_r, Phi, phi, lambda, v, phi, Gamma_p, Gamma_r, p, p_p^s, p_r^s')\n",
    "e, e_p_s, e_r_s, v_p, v_ps, v_r, Phi, phi, lambd, v, phi, gam_p, gam_r, p, p_p_s, p_r_s"
   ]
  },
  {
   "cell_type": "code",
   "execution_count": 73,
   "metadata": {},
   "outputs": [
    {
     "data": {
      "image/png": "[encoded data removed]",
      "text/latex": [
       "$$- e + \\lambda \\left(e^{s}_{p} + \\frac{v_{p}}{\\Gamma_{p}} \\left(p - p^{s}_{p}\\right)\\right) + \\left(e^{s}_{r} + \\frac{v_{r}}{\\Gamma_{r}} \\left(\\frac{p}{\\phi} - p^{s}_{r}\\right)\\right) \\left(- \\lambda + 1\\right)$$"
      ],
      "text/plain": [
       "                                    ⎛            ⎛p         ⎞⎞         \n",
       "                                    ⎜         vᵣ⋅⎜─ - p_r__s⎟⎟         \n",
       "       ⎛         vₚ⋅(p - p_p__s)⎞   ⎜            ⎝φ         ⎠⎟         \n",
       "-e + λ⋅⎜e_p__s + ───────────────⎟ + ⎜e_r__s + ───────────────⎟⋅(-λ + 1)\n",
       "       ⎝                Γₚ      ⎠   ⎝                Γᵣ      ⎠         "
      ]
     },
     "execution_count": 73,
     "metadata": {},
     "output_type": "execute_result"
    }
   ],
   "source": [
    "f1 = - e + ((1 - lambd) * (e_r_s + (v_r/gam_r) * (p/phi - p_r_s))   \n",
    "            +    lambd  * (e_p_s + (v_p/gam_p) * (p - p_p_s))\n",
    "            )  # = 0\n",
    "f1"
   ]
  },
  {
   "cell_type": "code",
   "execution_count": 74,
   "metadata": {
    "scrolled": true
   },
   "outputs": [
    {
     "data": {
      "image/png": "[encoded data removed]",
      "text/latex": [
       "$$\\left [ \\frac{\\phi}{- \\Gamma_{p} \\lambda v_{r} + \\Gamma_{p} v_{r} + \\Gamma_{r} \\lambda \\phi v_{p}} \\left(\\Gamma_{p} \\Gamma_{r} e - \\Gamma_{p} \\Gamma_{r} e^{s}_{p} \\lambda + \\Gamma_{p} \\Gamma_{r} e^{s}_{r} \\lambda - \\Gamma_{p} \\Gamma_{r} e^{s}_{r} - \\Gamma_{p} \\lambda p^{s}_{r} v_{r} + \\Gamma_{p} p^{s}_{r} v_{r} + \\Gamma_{r} \\lambda p^{s}_{p} v_{p}\\right)\\right ]$$"
      ],
      "text/plain": [
       "⎡φ⋅(Γₚ⋅Γᵣ⋅e - Γₚ⋅Γᵣ⋅e_p__s⋅λ + Γₚ⋅Γᵣ⋅e_r__s⋅λ - Γₚ⋅Γᵣ⋅e_r__s - Γₚ⋅λ⋅p_r__s⋅vᵣ \n",
       "⎢─────────────────────────────────────────────────────────────────────────────\n",
       "⎣                                         -Γₚ⋅λ⋅vᵣ + Γₚ⋅vᵣ + Γᵣ⋅λ⋅φ⋅vₚ        \n",
       "\n",
       "+ Γₚ⋅p_r__s⋅vᵣ + Γᵣ⋅λ⋅p_p__s⋅vₚ)⎤\n",
       "────────────────────────────────⎥\n",
       "                                ⎦"
      ]
     },
     "execution_count": 74,
     "metadata": {},
     "output_type": "execute_result"
    }
   ],
   "source": [
    "sympy.solve(f1, p)"
   ]
  },
  {
   "cell_type": "code",
   "execution_count": 75,
   "metadata": {},
   "outputs": [
    {
     "data": {
      "text/plain": [
       "[phi*(Gamma_p*Gamma_r*e - Gamma_p*Gamma_r*e_p^s*lambda + Gamma_p*Gamma_r*e_r^s*lambda - Gamma_p*Gamma_r*e_r^s - Gamma_p*lambda*p_r^s*v_r + Gamma_p*p_r^s*v_r + Gamma_r*lambda*p_p^s*v_p)/(-Gamma_p*lambda*v_r + Gamma_p*v_r + Gamma_r*lambda*phi*v_p)]"
      ]
     },
     "execution_count": 75,
     "metadata": {},
     "output_type": "execute_result"
    }
   ],
   "source": [
    "sympy.init_printing(False)\n",
    "sympy.solve(f1, p)"
   ]
  },
  {
   "cell_type": "markdown",
   "metadata": {},
   "source": [
    "Find the initial energy\n",
    "==="
   ]
  },
  {
   "cell_type": "code",
   "execution_count": 76,
   "metadata": {},
   "outputs": [
    {
     "data": {
      "image/png": "[encoded data removed]",
      "text/latex": [
       "$$\\left ( e, \\quad e^{s}_{p}, \\quad e^{s}_{r}, \\quad v_{p}, \\quad v_{ps}, \\quad v_{r}, \\quad \\Phi, \\quad \\phi, \\quad \\lambda, \\quad v, \\quad \\phi, \\quad \\Gamma_{p}, \\quad \\Gamma_{r}, \\quad p, \\quad p^{s}_{p}, \\quad p^{s}_{r}, \\quad INT\\right )$$"
      ],
      "text/plain": [
       "(e, e_p__s, e_r__s, vₚ, vₚₛ, vᵣ, Φ, φ, λ, v, φ, Γₚ, Γᵣ, p, p_p__s, p_r__s, INT\n",
       ")"
      ]
     },
     "execution_count": 76,
     "metadata": {},
     "output_type": "execute_result"
    }
   ],
   "source": [
    "import sympy\n",
    "sympy.init_printing()\n",
    "e, e_p_s, e_r_s, v_p, v_ps, v_r, Phi, phi, lambd, v, phi, gam_p, gam_r, p, p_p_s, p_r_s, INT = sympy.symbols('e, e_p^s, e_r^s, v_p, v_ps, v_r, Phi, phi, lambda, v, phi, Gamma_p, Gamma_r, p, p_p^s, p_r^s, INT')\n",
    "e, e_p_s, e_r_s, v_p, v_ps, v_r, Phi, phi, lambd, v, phi, gam_p, gam_r, p, p_p_s, p_r_s, INT"
   ]
  },
  {
   "cell_type": "code",
   "execution_count": 83,
   "metadata": {},
   "outputs": [
    {
     "data": {
      "text/plain": [
       "-e + lambda*(e_p^s + v_p*(p - p_p^s)/Gamma_p) + (-lambda + 1)*(INT + e + v_r*(p/phi - p_r^s)/Gamma_r)"
      ]
     },
     "execution_count": 83,
     "metadata": {},
     "output_type": "execute_result"
    }
   ],
   "source": [
    "f2 = - e + ((1 - lambd) * ((INT + e) + (v_r/gam_r) * (p/phi - p_r_s))   \n",
    "            +    lambd  * (e_p_s + (v_p/gam_p) * (p - p_p_s))\n",
    "            )  # = 0\n",
    "f2"
   ]
  },
  {
   "cell_type": "markdown",
   "metadata": {},
   "source": [
    "Note that lambd_0 = 0:"
   ]
  },
  {
   "cell_type": "code",
   "execution_count": 81,
   "metadata": {},
   "outputs": [
    {
     "data": {
      "text/plain": [
       "INT + v_r*(p/phi - p_r^s)/Gamma_r"
      ]
     },
     "execution_count": 81,
     "metadata": {},
     "output_type": "execute_result"
    }
   ],
   "source": [
    "f2 = - e + (((INT + e) + (v_r/gam_r) * (p/phi - p_r_s))  \n",
    "            )  # = 0\n",
    "f2"
   ]
  },
  {
   "cell_type": "code",
   "execution_count": 84,
   "metadata": {},
   "outputs": [
    {
     "data": {
      "text/plain": [
       "[-INT + INT/lambda + e_p^s - p*v_r/(Gamma_r*phi) + p_r^s*v_r/Gamma_r + p*v_r/(Gamma_r*lambda*phi) - p_r^s*v_r/(Gamma_r*lambda) + p*v_p/Gamma_p - p_p^s*v_p/Gamma_p]"
      ]
     },
     "execution_count": 84,
     "metadata": {},
     "output_type": "execute_result"
    }
   ],
   "source": [
    "sympy.init_printing(False)\n",
    "sympy.solve(f2, e)"
   ]
  },
  {
   "cell_type": "code",
   "execution_count": null,
   "metadata": {},
   "outputs": [],
   "source": []
  }
 ],
 "metadata": {
  "kernelspec": {
   "display_name": "Python 3",
   "language": "python",
   "name": "python3"
  },
  "language_info": {
   "codemirror_mode": {
    "name": "ipython",
    "version": 3
   },
   "file_extension": ".py",
   "mimetype": "text/x-python",
   "name": "python",
   "nbconvert_exporter": "python",
   "pygments_lexer": "ipython3",
   "version": "3.7.3"
  }
 },
 "nbformat": 4,
 "nbformat_minor": 2
}
